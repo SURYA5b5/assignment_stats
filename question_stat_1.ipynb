{
 "cells": [
  {
   "cell_type": "code",
   "execution_count": 7,
   "id": "e2d39bf4",
   "metadata": {},
   "outputs": [
    {
     "name": "stdout",
     "output_type": "stream",
     "text": [
      " A correlation value of 0.7 between SAT scores and college GPA suggests that \n",
      "      the two variables have a 'strong positive association'.)\n",
      "\n",
      "The correlation coefficient ranges from -1 to +1, \n",
      "where -1 represents a 'perfect negative correlation' (as one variable increases, the other declines) \n",
      "and +1 represents a 'perfect positive correlation'  (as one variable increases, the other likewise increases).\n",
      "\n",
      "\n",
      "A correlation coefficient of 0.7 indicates that as SAT scores rise, so do college GPAs. \n",
      "This suggests that students who perform well on the SAT have higher college GPAs, and vice versa. \n",
      "\n",
      "\n",
      "However, it is not the only case as there are many factors for the rule of success and \n",
      "this inference is completely based on the 'given numeric values' and 'correlation coefficient concept'.\n"
     ]
    }
   ],
   "source": [
    "print(\"\"\" A correlation value of 0.7 between SAT scores and college GPA suggests that \n",
    "      the two variables have a 'strong positive association'.)\n",
    "\n",
    "The correlation coefficient ranges from -1 to +1, \n",
    "where -1 represents a 'perfect negative correlation' (as one variable increases, the other declines) \n",
    "and +1 represents a 'perfect positive correlation'  (as one variable increases, the other likewise increases).\n",
    "\n",
    "\n",
    "A correlation coefficient of 0.7 indicates that as SAT scores rise, so do college GPAs. \n",
    "This suggests that students who perform well on the SAT have higher college GPAs, and vice versa. \n",
    "\n",
    "\n",
    "However, it is not the only case as there are many factors for the rule of success and \n",
    "this inference is completely based on the 'given numeric values' and 'correlation coefficient concept'.\"\"\")\n"
   ]
  },
  {
   "cell_type": "code",
   "execution_count": null,
   "id": "bee397b9",
   "metadata": {},
   "outputs": [],
   "source": []
  }
 ],
 "metadata": {
  "kernelspec": {
   "display_name": "Python 3 (ipykernel)",
   "language": "python",
   "name": "python3"
  },
  "language_info": {
   "codemirror_mode": {
    "name": "ipython",
    "version": 3
   },
   "file_extension": ".py",
   "mimetype": "text/x-python",
   "name": "python",
   "nbconvert_exporter": "python",
   "pygments_lexer": "ipython3",
   "version": "3.9.7"
  }
 },
 "nbformat": 4,
 "nbformat_minor": 5
}
