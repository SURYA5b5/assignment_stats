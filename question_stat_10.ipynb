{
 "cells": [
  {
   "cell_type": "code",
   "execution_count": null,
   "id": "e370e596",
   "metadata": {},
   "outputs": [],
   "source": [
    "import math\n",
    "\n",
    "def binomial_coefficient(n, k):\n",
    "    return math.comb(n, k)\n",
    "\n",
    "def binomial_probability(n, k, p):\n",
    "    return binomial_coefficient(n, k) * (p**k) * ((1 - p)**(n - k))\n",
    "\n",
    "def probability_exactly_k_defective(n, k, p):\n",
    "    return binomial_probability(n, k, p)\n",
    "    \n",
    "def probability_at_least_k_defective(n, k, p):\n",
    "    cumulative_probability = 0\n",
    "    for i in range(k, n + 1):\n",
    "        cumulative_probability += binomial_probability(n, i, p)\n",
    "    return cumulative_probability\n",
    "\n",
    "def probability_at_most_k_defective(n, k, p):\n",
    "    cumulative_probability = 0\n",
    "    for i in range(k + 1):\n",
    "        cumulative_probability += binomial_probability(n, i, p)\n",
    "    return cumulative_probability\n",
    "\n",
    "def expected_value(n, p):\n",
    "    return n * p\n",
    "\n",
    "# Parameters\n",
    "n = 500  # Total number of light bulbs\n",
    "p = 0.05  # Probability of a bulb being defective\n",
    "\n",
    "# a. Probability of exactly 20 defective bulbs\n",
    "#P(X = 20) = C(500, 20) * (0.05)^20 * (1 - 0.05)^(500 - 20)\n",
    "prob_20_defective = probability_exactly_k_defective(n, 20, p)\n",
    "\n",
    "# b. Probability of at least 10 defective bulbs\n",
    "prob_at_least_10_defective = probability_at_least_k_defective(n, 10, p)\n",
    "\n",
    "# c. Probability of at most 15 defective bulbs\n",
    "prob_at_most_15_defective = probability_at_most_k_defective(n, 15, p)\n",
    "\n",
    "# d. Expected number of defective bulbs\n",
    "expected_defective = expected_value(n, p)\n",
    "\n",
    "print(\"a. Probability of exactly 20 defective bulbs:\", prob_20_defective)\n",
    "print(\"b. Probability of at least 10 defective bulbs:\", prob_at_least_10_defective)\n",
    "print(\"c. Probability of at most 15 defective bulbs:\", prob_at_most_15_defective)\n",
    "print(\"d. Expected number of defective bulbs:\", expected_defective)\n"
   ]
  }
 ],
 "metadata": {
  "kernelspec": {
   "display_name": "Python 3 (ipykernel)",
   "language": "python",
   "name": "python3"
  },
  "language_info": {
   "codemirror_mode": {
    "name": "ipython",
    "version": 3
   },
   "file_extension": ".py",
   "mimetype": "text/x-python",
   "name": "python",
   "nbconvert_exporter": "python",
   "pygments_lexer": "ipython3",
   "version": "3.9.7"
  }
 },
 "nbformat": 4,
 "nbformat_minor": 5
}
