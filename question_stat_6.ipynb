{
 "cells": [
  {
   "cell_type": "code",
   "execution_count": 4,
   "id": "988154b5",
   "metadata": {},
   "outputs": [
    {
     "name": "stdout",
     "output_type": "stream",
     "text": [
      "Index(['Patient ID', ' Blood Pressure Before (mmHg)',\n",
      "       ' Blood Pressure After (mmHg)'],\n",
      "      dtype='object')\n",
      "_, p_value_before : (0.957322895526886, 0.0026030323933809996)\n",
      "_, p_value_after  : (0.940056562423706, 0.0001943297975230962)\n",
      "\n",
      "Since p_value_before and p_value_after are not greater, The change in blood pressure does not follow a normal distribution.\n"
     ]
    }
   ],
   "source": [
    "import pandas as pd\n",
    "import scipy.stats as stats\n",
    "\n",
    "# Read data from CSV file\n",
    "data = pd.read_csv('data.csv')\n",
    "\n",
    "print(data.columns)\n",
    "\n",
    "# Perform Shapiro-Wilk normality test - to find nrml dist\\not ----- returns test statistic and a p-value.\n",
    "_, p_value_before = stats.shapiro(data[' Blood Pressure Before (mmHg)'])\n",
    "print(f\"_, p_value_before : {_, p_value_before}\")\n",
    "_, p_value_after = stats.shapiro(data[' Blood Pressure After (mmHg)'])\n",
    "print(f\"_, p_value_after  : {_, p_value_after}\")\n",
    "print()\n",
    "\n",
    "\n",
    "# Interpret the results\n",
    "alpha = 0.05 #significance level,set to 0.05 \n",
    "\n",
    "if p_value_before > alpha and p_value_after > alpha:\n",
    "    print(\"The change in blood pressure follows a normal distribution.\")\n",
    "else:\n",
    "    print(f\"Since p_value_before and p_value_after are not greater, The change in blood pressure does not follow a normal distribution.\")"
   ]
  },
  {
   "cell_type": "code",
   "execution_count": null,
   "id": "4e4c46dd",
   "metadata": {},
   "outputs": [],
   "source": []
  },
  {
   "cell_type": "code",
   "execution_count": null,
   "id": "9840e82b",
   "metadata": {},
   "outputs": [],
   "source": []
  }
 ],
 "metadata": {
  "kernelspec": {
   "display_name": "Python 3 (ipykernel)",
   "language": "python",
   "name": "python3"
  },
  "language_info": {
   "codemirror_mode": {
    "name": "ipython",
    "version": 3
   },
   "file_extension": ".py",
   "mimetype": "text/x-python",
   "name": "python",
   "nbconvert_exporter": "python",
   "pygments_lexer": "ipython3",
   "version": "3.9.7"
  }
 },
 "nbformat": 4,
 "nbformat_minor": 5
}
